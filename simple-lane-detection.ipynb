{
 "cells": [
  {
   "cell_type": "markdown",
   "metadata": {},
   "source": [
    "# Self-Driving Car Engineer Nanodegree\n",
    "\n",
    "\n",
    "## Project: **Finding Lane Lines on the Road** "
   ]
  },
  {
   "cell_type": "markdown",
   "metadata": {},
   "source": [
    "## Import Packages"
   ]
  },
  {
   "cell_type": "code",
   "execution_count": 1,
   "metadata": {},
   "outputs": [],
   "source": [
    "import matplotlib.pyplot as plt\n",
    "import matplotlib.image as mpimg\n",
    "import numpy as np\n",
    "import cv2\n",
    "import os\n",
    "%matplotlib inline"
   ]
  },
  {
   "cell_type": "markdown",
   "metadata": {},
   "source": [
    "## Helper Functions"
   ]
  },
  {
   "cell_type": "code",
   "execution_count": 2,
   "metadata": {},
   "outputs": [],
   "source": [
    "import math\n",
    "\n",
    "def grayscale(img):\n",
    "    \"\"\"Applies the Grayscale transform\n",
    "    This will return an image with only one color channel\n",
    "    but NOTE: to see the returned image as grayscale\n",
    "    (assuming your grayscaled image is called 'gray')\n",
    "    you should call plt.imshow(gray, cmap='gray')\"\"\"\n",
    "    return cv2.cvtColor(img, cv2.COLOR_RGB2GRAY)\n",
    "    \n",
    "def canny(img, low_threshold, high_threshold):\n",
    "    \"\"\"Applies the Canny transform\"\"\"\n",
    "    return cv2.Canny(img, low_threshold, high_threshold)\n",
    "\n",
    "def gaussian_blur(img, kernel_size):\n",
    "    \"\"\"Applies a Gaussian Noise kernel\"\"\"\n",
    "    return cv2.GaussianBlur(img, (kernel_size, kernel_size), 0)\n",
    "\n",
    "def region_of_interest(img, vertices):\n",
    "    \"\"\"\n",
    "    Applies an image mask.\n",
    "    \n",
    "    Only keeps the region of the image defined by the polygon\n",
    "    formed from `vertices`. The rest of the image is set to black.\n",
    "    \"\"\"\n",
    "    #defining a blank mask to start with\n",
    "    mask = np.zeros_like(img)   \n",
    "    \n",
    "    #defining a 3 channel or 1 channel color to fill the mask with depending on the input image\n",
    "    if len(img.shape) > 2:\n",
    "        channel_count = img.shape[2]  # i.e. 3 or 4 depending on your image\n",
    "        ignore_mask_color = (255,) * channel_count\n",
    "    else:\n",
    "        ignore_mask_color = 255\n",
    "        \n",
    "    #filling pixels inside the polygon defined by \"vertices\" with the fill color    \n",
    "    cv2.fillPoly(mask, vertices, ignore_mask_color)\n",
    "    \n",
    "    #returning the image only where mask pixels are nonzero\n",
    "    masked_image = cv2.bitwise_and(img, mask)\n",
    "    return masked_image\n",
    "\n",
    "\n",
    "def draw_lines(img, lines, color=[255, 0, 0], thickness=2):\n",
    "    \"\"\"\n",
    "    NOTE: this is the function you might want to use as a starting point once you want to \n",
    "    average/extrapolate the line segments you detect to map out the full\n",
    "    extent of the lane (going from the result shown in raw-lines-example.mp4\n",
    "    to that shown in P1_example.mp4).  \n",
    "    \n",
    "    Think about things like separating line segments by their \n",
    "    slope ((y2-y1)/(x2-x1)) to decide which segments are part of the left\n",
    "    line vs. the right line.  Then, you can average the position of each of \n",
    "    the lines and extrapolate to the top and bottom of the lane.\n",
    "    \n",
    "    This function draws `lines` with `color` and `thickness`.    \n",
    "    Lines are drawn on the image inplace (mutates the image).\n",
    "    If you want to make the lines semi-transparent, think about combining\n",
    "    this function with the weighted_img() function below\n",
    "    \"\"\"\n",
    "    for line in lines:\n",
    "        for x1,y1,x2,y2 in line:\n",
    "            cv2.line(img, (x1, y1), (x2, y2), color, thickness)\n",
    "\n",
    "def hough_lines(img, rho, theta, threshold, min_line_len, max_line_gap):\n",
    "    \"\"\"\n",
    "    `img` should be the output of a Canny transform.\n",
    "        \n",
    "    Returns an image with hough lines drawn.\n",
    "    \"\"\"\n",
    "    lines = cv2.HoughLinesP(img, rho, theta, threshold, np.array([]), minLineLength=min_line_len, maxLineGap=max_line_gap)\n",
    "    line_img = np.zeros((img.shape[0], img.shape[1], 3), dtype=np.uint8)\n",
    "    draw_lines(line_img, lines)\n",
    "    return line_img\n",
    "\n",
    "def weighted_img(img, initial_img, α=0.8, β=1., λ=0.):\n",
    "    \"\"\"\n",
    "    `img` is the output of the hough_lines(), An image with lines drawn on it.\n",
    "    Should be a blank image (all black) with lines drawn on it.\n",
    "    \n",
    "    `initial_img` should be the image before any processing.\n",
    "    \n",
    "    The result image is computed as follows:\n",
    "    \n",
    "    initial_img * α + img * β + λ\n",
    "    NOTE: initial_img and img must be the same shape!\n",
    "    \"\"\"\n",
    "    return cv2.addWeighted(initial_img, α, img, β, λ)"
   ]
  },
  {
   "cell_type": "markdown",
   "metadata": {},
   "source": [
    "## Building a pipeline\n",
    "\n",
    "Here I'll build a simple line detection and drawing pipeline using the helper functions provided and apply it to videos."
   ]
  },
  {
   "cell_type": "code",
   "execution_count": 3,
   "metadata": {},
   "outputs": [
    {
     "name": "stdout",
     "output_type": "stream",
     "text": [
      "[MoviePy] >>>> Building video test_videos_output/swr_1.mp4\n",
      "[MoviePy] Writing video test_videos_output/swr_1.mp4\n"
     ]
    },
    {
     "name": "stderr",
     "output_type": "stream",
     "text": [
      "100%|█████████▉| 221/222 [00:03<00:00, 65.51it/s]\n"
     ]
    },
    {
     "name": "stdout",
     "output_type": "stream",
     "text": [
      "[MoviePy] Done.\n",
      "[MoviePy] >>>> Video ready: test_videos_output/swr_1.mp4 \n",
      "\n",
      "CPU times: user 1.54 s, sys: 175 ms, total: 1.71 s\n",
      "Wall time: 3.62 s\n"
     ]
    },
    {
     "data": {
      "text/html": [
       "\n",
       "<video width=\"960\" height=\"540\" controls>\n",
       "  <source src=\"test_videos_output/swr_1.mp4\">\n",
       "</video>\n"
      ],
      "text/plain": [
       "<IPython.core.display.HTML object>"
      ]
     },
     "execution_count": 3,
     "metadata": {},
     "output_type": "execute_result"
    }
   ],
   "source": [
    "from moviepy.editor import VideoFileClip\n",
    "from IPython.display import HTML\n",
    "\n",
    "def find_lines(image):\n",
    "    # convert image to grayscale\n",
    "    gray = grayscale(image)\n",
    "    # smooth edges using gaussian blur\n",
    "    blur = gaussian_blur(gray, kernel_size=5)\n",
    "    # use canny to detect edges\n",
    "    edges = canny(blur, low_threshold=50, high_threshold=150)\n",
    "    # mask lane area\n",
    "    imshape = edges.shape\n",
    "    vertices = np.int32([[\n",
    "        (int(imshape[1] * 0.05), int(imshape[0])),\n",
    "        (int(imshape[1] * 0.40), int(imshape[0] * 0.6)),\n",
    "        (int(imshape[1] * 0.60), int(imshape[0] * 0.6)),\n",
    "        (int(imshape[1] * 0.95), int(imshape[0])),\n",
    "    ]])\n",
    "    masked = region_of_interest(edges, vertices=vertices)\n",
    "    # use Hough to detect and lines\n",
    "    return cv2.HoughLinesP(masked,\n",
    "                           rho=1,\n",
    "                           theta=np.pi / 180,\n",
    "                           threshold=25,\n",
    "                           lines=np.array([]),\n",
    "                           minLineLength=25,\n",
    "                           maxLineGap=250)\n",
    "\n",
    "    \n",
    "def process_image(image):\n",
    "    lines = find_lines(image)\n",
    "    # draw lines\n",
    "    line_img = np.zeros((image.shape[0], image.shape[1], 3), dtype=np.uint8)\n",
    "    draw_lines(line_img, lines)\n",
    "    # annotate original image\n",
    "    result = weighted_img(image, line_img, α=0.8, β=1., λ=0.)\n",
    "    return result\n",
    "\n",
    "if not os.path.exists('test_videos_output'):\n",
    "    os.mkdir('test_videos_output')\n",
    "white_output = 'test_videos_output/swr_1.mp4'\n",
    "clip1 = VideoFileClip(\"test_videos/solidWhiteRight.mp4\")\n",
    "white_clip = clip1.fl_image(process_image) #NOTE: this function expects color images!!\n",
    "%time white_clip.write_videofile(white_output, audio=False)\n",
    "\n",
    "HTML(\"\"\"\n",
    "<video width=\"960\" height=\"540\" controls>\n",
    "  <source src=\"{0}\">\n",
    "</video>\n",
    "\"\"\".format(white_output))"
   ]
  },
  {
   "cell_type": "markdown",
   "metadata": {},
   "source": [
    "## Drawing two lines\n",
    "\n",
    "Instead of drawing all lines found, including false positives, let's average these to draw to lines, one for each lane.\n",
    "\n",
    "Let's hope the number of correctly identified lines is much larger than false positives, reducing their effect on the final results"
   ]
  },
  {
   "cell_type": "code",
   "execution_count": 4,
   "metadata": {},
   "outputs": [
    {
     "name": "stdout",
     "output_type": "stream",
     "text": [
      "[MoviePy] >>>> Building video test_videos_output/swr_2.mp4\n",
      "[MoviePy] Writing video test_videos_output/swr_2.mp4\n"
     ]
    },
    {
     "name": "stderr",
     "output_type": "stream",
     "text": [
      "100%|█████████▉| 221/222 [00:03<00:00, 69.43it/s]\n"
     ]
    },
    {
     "name": "stdout",
     "output_type": "stream",
     "text": [
      "[MoviePy] Done.\n",
      "[MoviePy] >>>> Video ready: test_videos_output/swr_2.mp4 \n",
      "\n",
      "CPU times: user 1.6 s, sys: 182 ms, total: 1.78 s\n",
      "Wall time: 3.71 s\n"
     ]
    },
    {
     "data": {
      "text/html": [
       "\n",
       "<video width=\"960\" height=\"540\" controls>\n",
       "  <source src=\"test_videos_output/swr_2.mp4\">\n",
       "</video>\n"
      ],
      "text/plain": [
       "<IPython.core.display.HTML object>"
      ]
     },
     "execution_count": 4,
     "metadata": {},
     "output_type": "execute_result"
    }
   ],
   "source": [
    "def coefficients(line):\n",
    "    x1, y1, x2, y2 = line\n",
    "    m = (y2 - y1) / (x2 - x1)\n",
    "    b = y1 - m * x1\n",
    "    l2 = (x2 - x1) ** 2 + (y2 - y1) ** 2\n",
    "    return m, b, l2\n",
    "\n",
    "def process_image(image):\n",
    "    # find average lines for lanes\n",
    "    LEFT = 0\n",
    "    RIGHT = 1\n",
    "    lines = [[], []]\n",
    "    for line in find_lines(image):\n",
    "        m, b, l2 = coefficients(line[0])\n",
    "        side = LEFT if m < 0 else RIGHT\n",
    "        lines[side].append((m, b, l2))\n",
    "    slopes = [\n",
    "        np.mean([l[0] for l in lines[LEFT]]),\n",
    "        np.mean([l[0] for l in lines[RIGHT]]),\n",
    "    ]\n",
    "    intercepts = [\n",
    "        np.mean([l[1] for l in lines[LEFT]]),\n",
    "        np.mean([l[1] for l in lines[RIGHT]]),\n",
    "    ]\n",
    "\n",
    "    # draw lines found\n",
    "    line_img = np.zeros((image.shape[0], image.shape[1], 3), dtype=np.uint8)\n",
    "    for slope, intercept in zip(slopes, intercepts):\n",
    "        y1, y2 = image.shape[0], image.shape[0] * 0.6\n",
    "        pt1 = (int((y1 - intercept) / slope), int(y1))\n",
    "        pt2 = (int((y2 - intercept) / slope), int(y2))\n",
    "        cv2.line(line_img, pt1, pt2, color=[255, 0, 0], thickness=3)\n",
    "\n",
    "    # annotate original image\n",
    "    result = weighted_img(image, line_img, α=0.8, β=1., λ=0.)\n",
    "    return result\n",
    "\n",
    "white_output = 'test_videos_output/swr_2.mp4'\n",
    "clip1 = VideoFileClip(\"test_videos/solidWhiteRight.mp4\")\n",
    "white_clip = clip1.fl_image(process_image) #NOTE: this function expects color images!!\n",
    "%time white_clip.write_videofile(white_output, audio=False)\n",
    "\n",
    "HTML(\"\"\"\n",
    "<video width=\"960\" height=\"540\" controls>\n",
    "  <source src=\"{0}\">\n",
    "</video>\n",
    "\"\"\".format(white_output))"
   ]
  },
  {
   "cell_type": "markdown",
   "metadata": {},
   "source": [
    "# Time to try the yellow lane video\n",
    "\n",
    "The video shows the lanes slightly jittery when false positives influence gets high, but let's check the other video before further improving this."
   ]
  },
  {
   "cell_type": "code",
   "execution_count": 5,
   "metadata": {},
   "outputs": [
    {
     "name": "stdout",
     "output_type": "stream",
     "text": [
      "[MoviePy] >>>> Building video test_videos_output/syl_1.mp4\n",
      "[MoviePy] Writing video test_videos_output/syl_1.mp4\n"
     ]
    },
    {
     "name": "stderr",
     "output_type": "stream",
     "text": [
      "100%|█████████▉| 681/682 [00:10<00:00, 63.83it/s]\n"
     ]
    },
    {
     "name": "stdout",
     "output_type": "stream",
     "text": [
      "[MoviePy] Done.\n",
      "[MoviePy] >>>> Video ready: test_videos_output/syl_1.mp4 \n",
      "\n",
      "CPU times: user 5.07 s, sys: 545 ms, total: 5.62 s\n",
      "Wall time: 11.2 s\n"
     ]
    },
    {
     "data": {
      "text/html": [
       "\n",
       "<video width=\"960\" height=\"540\" controls>\n",
       "  <source src=\"test_videos_output/syl_1.mp4\">\n",
       "</video>\n"
      ],
      "text/plain": [
       "<IPython.core.display.HTML object>"
      ]
     },
     "execution_count": 5,
     "metadata": {},
     "output_type": "execute_result"
    }
   ],
   "source": [
    "yellow_output = 'test_videos_output/syl_1.mp4'\n",
    "clip2 = VideoFileClip('test_videos/solidYellowLeft.mp4')\n",
    "yellow_clip = clip2.fl_image(process_image)\n",
    "%time yellow_clip.write_videofile(yellow_output, audio=False)\n",
    "\n",
    "HTML(\"\"\"\n",
    "<video width=\"960\" height=\"540\" controls>\n",
    "  <source src=\"{0}\">\n",
    "</video>\n",
    "\"\"\".format(yellow_output))"
   ]
  },
  {
   "cell_type": "markdown",
   "metadata": {},
   "source": [
    "# Filtering outliers\n",
    "\n",
    "The results above aren't that good, as the average slope and intercept for the lanes are being heavily skewed by false positives.\n",
    "\n",
    "The obvious next step should be filtering out outliers that are messing up the averages.\n",
    "\n",
    "To do that I'll first remove outliers based on the median slope. Then I'll calculate a weighted average, using the lines squared length as weights, so longer lines have a much higher impact on the results."
   ]
  },
  {
   "cell_type": "code",
   "execution_count": 6,
   "metadata": {},
   "outputs": [
    {
     "name": "stdout",
     "output_type": "stream",
     "text": [
      "[MoviePy] >>>> Building video test_videos_output/syl_2.mp4\n",
      "[MoviePy] Writing video test_videos_output/syl_2.mp4\n"
     ]
    },
    {
     "name": "stderr",
     "output_type": "stream",
     "text": [
      "100%|█████████▉| 681/682 [00:10<00:00, 64.71it/s]\n"
     ]
    },
    {
     "name": "stdout",
     "output_type": "stream",
     "text": [
      "[MoviePy] Done.\n",
      "[MoviePy] >>>> Video ready: test_videos_output/syl_2.mp4 \n",
      "\n",
      "CPU times: user 5.27 s, sys: 545 ms, total: 5.82 s\n",
      "Wall time: 11 s\n"
     ]
    },
    {
     "data": {
      "text/html": [
       "\n",
       "<video width=\"960\" height=\"540\" controls>\n",
       "  <source src=\"test_videos_output/syl_2.mp4\">\n",
       "</video>\n"
      ],
      "text/plain": [
       "<IPython.core.display.HTML object>"
      ]
     },
     "execution_count": 6,
     "metadata": {},
     "output_type": "execute_result"
    }
   ],
   "source": [
    "def draw_filtered_lines(image, lines):\n",
    "    # find average lines for lanes\n",
    "    LEFT = 0\n",
    "    RIGHT = 1\n",
    "    separated = [[], []]\n",
    "    for line in lines:\n",
    "        m, b, l2 = coefficients(line[0])\n",
    "        side = LEFT if m < 0 else RIGHT\n",
    "        separated[side].append((m, b, l2))\n",
    "    \n",
    "    # Filter outliers based on slope\n",
    "    filtered = []\n",
    "    for selected in separated:\n",
    "        slopes = [l[0] for l in selected]\n",
    "        median_slope = np.median(slopes)\n",
    "        limit = np.std(slopes) * 1.5\n",
    "        selected = [s for s in selected if abs(s[0] - median_slope) < limit]\n",
    "        filtered.append(selected)\n",
    "    \n",
    "    # Use the squared length of the lines for a weighted average\n",
    "    average = []\n",
    "    for selected in filtered:\n",
    "        weights = [s[2] for s in selected]\n",
    "        weight_sum = np.sum(weights)\n",
    "        if weight_sum == 0:\n",
    "            average.append((None, None, None))\n",
    "            continue\n",
    "        average.append(np.dot(weights, selected) / weight_sum)\n",
    "\n",
    "    # draw lines found\n",
    "    line_img = np.zeros((image.shape[0], image.shape[1], 3), dtype=np.uint8)\n",
    "    for slope, intercept, _ in average:\n",
    "        if slope is None:\n",
    "            continue\n",
    "        y1, y2 = image.shape[0], image.shape[0] * 0.6\n",
    "        pt1 = (int((y1 - intercept) / slope), int(y1))\n",
    "        pt2 = (int((y2 - intercept) / slope), int(y2))\n",
    "        cv2.line(line_img, pt1, pt2, color=[255, 0, 0], thickness=3)\n",
    "\n",
    "    # annotate original image\n",
    "    result = weighted_img(image, line_img, α=0.8, β=1., λ=0.)\n",
    "    return result\n",
    "\n",
    "def process_image(image):\n",
    "    lines = find_lines(image)\n",
    "    return draw_filtered_lines(image, lines)\n",
    "\n",
    "yellow_output = 'test_videos_output/syl_2.mp4'\n",
    "clip2 = VideoFileClip('test_videos/solidYellowLeft.mp4')\n",
    "yellow_clip = clip2.fl_image(process_image)\n",
    "%time yellow_clip.write_videofile(yellow_output, audio=False)\n",
    "\n",
    "HTML(\"\"\"\n",
    "<video width=\"960\" height=\"540\" controls>\n",
    "  <source src=\"{0}\">\n",
    "</video>\n",
    "\"\"\".format(yellow_output))"
   ]
  },
  {
   "cell_type": "markdown",
   "metadata": {
    "collapsed": true
   },
   "source": [
    "## Optional Challenge\n",
    "\n",
    "I'm pretty happy with the results above, the pipeline works great here.\n",
    "\n",
    "The last step is checking the challenge video."
   ]
  },
  {
   "cell_type": "code",
   "execution_count": 7,
   "metadata": {},
   "outputs": [
    {
     "name": "stdout",
     "output_type": "stream",
     "text": [
      "[MoviePy] >>>> Building video test_videos_output/challenge_1.mp4\n",
      "[MoviePy] Writing video test_videos_output/challenge_1.mp4\n"
     ]
    },
    {
     "name": "stderr",
     "output_type": "stream",
     "text": [
      "100%|██████████| 251/251 [00:08<00:00, 31.30it/s]\n"
     ]
    },
    {
     "name": "stdout",
     "output_type": "stream",
     "text": [
      "[MoviePy] Done.\n",
      "[MoviePy] >>>> Video ready: test_videos_output/challenge_1.mp4 \n",
      "\n",
      "CPU times: user 3.85 s, sys: 318 ms, total: 4.16 s\n",
      "Wall time: 9.04 s\n"
     ]
    },
    {
     "data": {
      "text/html": [
       "\n",
       "<video width=\"960\" height=\"540\" controls>\n",
       "  <source src=\"test_videos_output/challenge_1.mp4\">\n",
       "</video>\n"
      ],
      "text/plain": [
       "<IPython.core.display.HTML object>"
      ]
     },
     "execution_count": 7,
     "metadata": {},
     "output_type": "execute_result"
    }
   ],
   "source": [
    "challenge_output = 'test_videos_output/challenge_1.mp4'\n",
    "clip3 = VideoFileClip('test_videos/challenge.mp4')\n",
    "challenge_clip = clip3.fl_image(process_image)\n",
    "%time challenge_clip.write_videofile(challenge_output, audio=False)\n",
    "\n",
    "HTML(\"\"\"\n",
    "<video width=\"960\" height=\"540\" controls>\n",
    "  <source src=\"{0}\">\n",
    "</video>\n",
    "\"\"\".format(challenge_output))"
   ]
  },
  {
   "cell_type": "markdown",
   "metadata": {},
   "source": [
    "# Using color filters\n",
    "\n",
    "Now that's some messy results. Too many lines that aren't part of the lanes are being detected as such.\n",
    "\n",
    "To improve this I'll use a much more specific filter using the colors of the lanes before sending the image for line detection."
   ]
  },
  {
   "cell_type": "code",
   "execution_count": 8,
   "metadata": {},
   "outputs": [
    {
     "name": "stdout",
     "output_type": "stream",
     "text": [
      "[MoviePy] >>>> Building video test_videos_output/challenge_2.mp4\n",
      "[MoviePy] Writing video test_videos_output/challenge_2.mp4\n"
     ]
    },
    {
     "name": "stderr",
     "output_type": "stream",
     "text": [
      "100%|██████████| 251/251 [00:08<00:00, 28.91it/s]\n"
     ]
    },
    {
     "name": "stdout",
     "output_type": "stream",
     "text": [
      "[MoviePy] Done.\n",
      "[MoviePy] >>>> Video ready: test_videos_output/challenge_2.mp4 \n",
      "\n",
      "CPU times: user 4.84 s, sys: 355 ms, total: 5.19 s\n",
      "Wall time: 9.36 s\n"
     ]
    },
    {
     "data": {
      "text/html": [
       "\n",
       "<video width=\"960\" height=\"540\" controls>\n",
       "  <source src=\"test_videos_output/challenge_2.mp4\">\n",
       "</video>\n"
      ],
      "text/plain": [
       "<IPython.core.display.HTML object>"
      ]
     },
     "execution_count": 8,
     "metadata": {},
     "output_type": "execute_result"
    }
   ],
   "source": [
    "def color_filter(original):\n",
    "    image = cv2.cvtColor(original, cv2.COLOR_RGB2HLS)\n",
    "    white_mask = cv2.inRange(\n",
    "        image,\n",
    "        np.uint8([0, 200, 0]),\n",
    "        np.uint8([255, 255, 255]),\n",
    "    )\n",
    "    yellow_mask = cv2.inRange(\n",
    "        image,\n",
    "        np.uint8([10, 0, 100]),\n",
    "        np.uint8([40, 255, 255]),\n",
    "    )\n",
    "    mask = cv2.bitwise_or(white_mask, yellow_mask)\n",
    "    masked_original = cv2.bitwise_and(original, original, mask=mask)\n",
    "    return masked_original\n",
    "\n",
    "def improved_pipeline(image):\n",
    "    masked = color_filter(image)\n",
    "    lines = find_lines(masked)\n",
    "    return draw_filtered_lines(image, lines)\n",
    "\n",
    "challenge_output = 'test_videos_output/challenge_2.mp4'\n",
    "clip3 = VideoFileClip('test_videos/challenge.mp4')\n",
    "challenge_clip = clip3.fl_image(improved_pipeline)\n",
    "%time challenge_clip.write_videofile(challenge_output, audio=False)\n",
    "\n",
    "HTML(\"\"\"\n",
    "<video width=\"960\" height=\"540\" controls>\n",
    "  <source src=\"{0}\">\n",
    "</video>\n",
    "\"\"\".format(challenge_output))"
   ]
  },
  {
   "cell_type": "markdown",
   "metadata": {},
   "source": [
    "## That's it for now."
   ]
  }
 ],
 "metadata": {
  "anaconda-cloud": {},
  "kernelspec": {
   "display_name": "Python 3",
   "language": "python",
   "name": "python3"
  },
  "language_info": {
   "codemirror_mode": {
    "name": "ipython",
    "version": 3
   },
   "file_extension": ".py",
   "mimetype": "text/x-python",
   "name": "python",
   "nbconvert_exporter": "python",
   "pygments_lexer": "ipython3",
   "version": "3.6.3"
  }
 },
 "nbformat": 4,
 "nbformat_minor": 1
}
